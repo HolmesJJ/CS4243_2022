{
 "cells": [
  {
   "cell_type": "markdown",
   "metadata": {},
   "source": [
    "# Lab 01 : MLP -- exercise\n",
    "\n",
    "# Understanding the training loop "
   ]
  },
  {
   "cell_type": "code",
   "execution_count": 1,
   "metadata": {},
   "outputs": [],
   "source": [
    "# For Google Colaboratory\n",
    "import sys, os\n",
    "if 'google.colab' in sys.modules:\n",
    "    # mount google drive\n",
    "    from google.colab import drive\n",
    "    drive.mount('/content/gdrive')\n",
    "    path_to_file = '/content/gdrive/My Drive/CS4243_codes/codes/labs_lecture05/lab01_mlp'\n",
    "    print(path_to_file)\n",
    "    # move to Google Drive directory\n",
    "    os.chdir(path_to_file)\n",
    "    !pwd"
   ]
  },
  {
   "cell_type": "code",
   "execution_count": 2,
   "metadata": {},
   "outputs": [],
   "source": [
    "import torch\n",
    "import torch.nn as nn\n",
    "import torch.optim as optim\n",
    "from random import randint\n",
    "import utils"
   ]
  },
  {
   "cell_type": "markdown",
   "metadata": {},
   "source": [
    "### Download the data and print the sizes"
   ]
  },
  {
   "cell_type": "code",
   "execution_count": 3,
   "metadata": {},
   "outputs": [],
   "source": [
    "from utils import check_fashion_mnist_dataset_exists\n",
    "data_path=check_fashion_mnist_dataset_exists()\n"
   ]
  },
  {
   "cell_type": "code",
   "execution_count": 4,
   "metadata": {},
   "outputs": [
    {
     "name": "stdout",
     "output_type": "stream",
     "text": [
      "torch.Size([60000, 28, 28])\n"
     ]
    }
   ],
   "source": [
    "train_data=torch.load(data_path+'fashion-mnist/train_data.pt')\n",
    "\n",
    "print(train_data.size())"
   ]
  },
  {
   "cell_type": "code",
   "execution_count": 5,
   "metadata": {},
   "outputs": [
    {
     "name": "stdout",
     "output_type": "stream",
     "text": [
      "torch.Size([60000])\n"
     ]
    }
   ],
   "source": [
    "train_label=torch.load(data_path+'fashion-mnist/train_label.pt')\n",
    "\n",
    "print(train_label.size())"
   ]
  },
  {
   "cell_type": "code",
   "execution_count": 6,
   "metadata": {},
   "outputs": [
    {
     "name": "stdout",
     "output_type": "stream",
     "text": [
      "torch.Size([10000, 28, 28])\n"
     ]
    }
   ],
   "source": [
    "test_data=torch.load(data_path+'fashion-mnist/test_data.pt')\n",
    "\n",
    "print(test_data.size())"
   ]
  },
  {
   "cell_type": "markdown",
   "metadata": {},
   "source": [
    "### Make a ONE layer net class. The network output are the scores! No softmax needed! You have only one line to write in the forward function"
   ]
  },
  {
   "cell_type": "code",
   "execution_count": 7,
   "metadata": {},
   "outputs": [],
   "source": [
    "class one_layer_net(nn.Module):\n",
    "\n",
    "    def __init__(self, input_size, output_size):\n",
    "        super(one_layer_net , self).__init__()\n",
    "        \n",
    "        # 一层全连接网络MLP\n",
    "        self.linear_layer =  nn.Linear(input_size, output_size, bias=False) # complete here\n",
    "        \n",
    "    def forward(self, x):\n",
    "        scores = self.linear_layer(x) # complete here\n",
    "        return scores"
   ]
  },
  {
   "cell_type": "markdown",
   "metadata": {},
   "source": [
    "### Build the net"
   ]
  },
  {
   "cell_type": "code",
   "execution_count": 8,
   "metadata": {},
   "outputs": [
    {
     "name": "stdout",
     "output_type": "stream",
     "text": [
      "one_layer_net(\n",
      "  (linear_layer): Linear(in_features=784, out_features=10, bias=False)\n",
      ")\n"
     ]
    }
   ],
   "source": [
    "net = one_layer_net(784, 10) # complete here\n",
    "print(net)"
   ]
  },
  {
   "cell_type": "markdown",
   "metadata": {},
   "source": [
    "### Choose the criterion and the optimizer: use the CHEAT SHEET to see the correct syntax. \n",
    "\n",
    "### Remember that the optimizer need to have access to the parameters of the network (net.parameters()).\n",
    "\n",
    "### Set the batchize and learning rate to be:\n",
    "### batchize = 50\n",
    "### learning rate = 0.01\n",
    "\n",
    "\n",
    "\n",
    "\n",
    "\n"
   ]
  },
  {
   "cell_type": "code",
   "execution_count": 9,
   "metadata": {},
   "outputs": [],
   "source": [
    "# make the criterion\n",
    "criterion = nn.CrossEntropyLoss() # complete here\n",
    "\n",
    "# make the SGD optimizer. \n",
    "optimizer=torch.optim.SGD(net.parameters(),lr=0.01)\n",
    "\n",
    "# set up the batch size   \n",
    "bs=50"
   ]
  },
  {
   "cell_type": "markdown",
   "metadata": {},
   "source": [
    "### Complete the training loop"
   ]
  },
  {
   "cell_type": "code",
   "execution_count": 10,
   "metadata": {},
   "outputs": [],
   "source": [
    "for iter in range(1,5000):\n",
    "    \n",
    "    # Set dL/dU, dL/dV, dL/dW to be filled with zeros\n",
    "    optimizer.zero_grad()\n",
    "     \n",
    "    # create a minibatch\n",
    "    # 随机抽取50个样本的index\n",
    "    indices = torch.LongTensor(bs).random_(0,60000)\n",
    "    minibatch_data = train_data[indices]\n",
    "    minibatch_label = train_label[indices]\n",
    "    \n",
    "    # reshape the minibatch\n",
    "    # 50 x 784\n",
    "    inputs = minibatch_data.view(bs,784)\n",
    "    \n",
    "    # tell Pytorch to start tracking all operations that will be done on \"inputs\"\n",
    "    inputs.requires_grad_()\n",
    "\n",
    "    # forward the minibatch through the net  \n",
    "    scores = net(inputs) \n",
    "    \n",
    "    # Compute the average of the losses of the data points in the minibatch\n",
    "    loss = criterion(scores, minibatch_label) \n",
    "    \n",
    "    # backward pass to compute dL/dU, dL/dV and dL/dW    \n",
    "    loss.backward()\n",
    "    \n",
    "    # do one step of stochastic gradient descent: U=U-lr(dL/dU), V=V-lr(dL/dU), ...\n",
    "    optimizer.step()\n",
    "    "
   ]
  },
  {
   "cell_type": "markdown",
   "metadata": {},
   "source": [
    "### Choose image at random from the test set and see how good/bad are the predictions"
   ]
  },
  {
   "cell_type": "code",
   "execution_count": 11,
   "metadata": {},
   "outputs": [
    {
     "data": {
      "image/png": "[encoded data removed]",
      "text/plain": [
       "<Figure size 432x288 with 1 Axes>"
      ]
     },
     "metadata": {
      "needs_background": "light"
     },
     "output_type": "display_data"
    },
    {
     "data": {
      "image/png": "[encoded data removed]",
      "text/plain": [
       "<Figure size 640x480 with 1 Axes>"
      ]
     },
     "metadata": {},
     "output_type": "display_data"
    }
   ],
   "source": [
    "# choose a picture at random\n",
    "idx=randint(0, 10000-1)\n",
    "im=test_data[idx]\n",
    "\n",
    "# diplay the picture\n",
    "utils.show(im)\n",
    "\n",
    "# feed it to the net and display the confidence scores\n",
    "scores =  net( im.view(1,784)) \n",
    "probs= torch.softmax(scores, dim=1)\n",
    "utils.show_prob_fashion_mnist(probs)"
   ]
  },
  {
   "cell_type": "code",
   "execution_count": null,
   "metadata": {},
   "outputs": [],
   "source": []
  }
 ],
 "metadata": {
  "kernelspec": {
   "display_name": "Python 3 (ipykernel)",
   "language": "python",
   "name": "python3"
  },
  "language_info": {
   "codemirror_mode": {
    "name": "ipython",
    "version": 3
   },
   "file_extension": ".py",
   "mimetype": "text/x-python",
   "name": "python",
   "nbconvert_exporter": "python",
   "pygments_lexer": "ipython3",
   "version": "3.7.10"
  }
 },
 "nbformat": 4,
 "nbformat_minor": 2
}
