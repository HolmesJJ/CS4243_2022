{
 "cells": [
  {
   "cell_type": "markdown",
   "metadata": {},
   "source": [
    "# Lab 04 : Test set evaluation -- exercise"
   ]
  },
  {
   "cell_type": "code",
   "execution_count": 1,
   "metadata": {},
   "outputs": [],
   "source": [
    "# For Google Colaboratory\n",
    "import sys, os\n",
    "if 'google.colab' in sys.modules:\n",
    "    # mount google drive\n",
    "    from google.colab import drive\n",
    "    drive.mount('/content/gdrive')\n",
    "    path_to_file = '/content/gdrive/My Drive/CS4243_codes/codes/labs_lecture05/lab04_test_set'\n",
    "    print(path_to_file)\n",
    "    # move to Google Drive directory\n",
    "    os.chdir(path_to_file)\n",
    "    !pwd"
   ]
  },
  {
   "cell_type": "code",
   "execution_count": 2,
   "metadata": {},
   "outputs": [],
   "source": [
    "import torch\n",
    "import torch.nn as nn\n",
    "import torch.optim as optim\n",
    "from random import randint\n",
    "import utils"
   ]
  },
  {
   "cell_type": "markdown",
   "metadata": {},
   "source": [
    "### Download the CIFAR dataset -- check the size carefully!"
   ]
  },
  {
   "cell_type": "code",
   "execution_count": 3,
   "metadata": {},
   "outputs": [
    {
     "name": "stdout",
     "output_type": "stream",
     "text": [
      "torch.Size([50000, 3, 32, 32])\n",
      "torch.Size([10000, 3, 32, 32])\n"
     ]
    }
   ],
   "source": [
    "from utils import check_cifar_dataset_exists\n",
    "data_path=check_cifar_dataset_exists()\n",
    "\n",
    "train_data=torch.load(data_path+'cifar/train_data.pt')\n",
    "train_label=torch.load(data_path+'cifar/train_label.pt')\n",
    "test_data=torch.load(data_path+'cifar/test_data.pt')\n",
    "test_label=torch.load(data_path+'cifar/test_label.pt')\n",
    "\n",
    "print(train_data.size())\n",
    "print(test_data.size())"
   ]
  },
  {
   "cell_type": "markdown",
   "metadata": {},
   "source": [
    "### Make a ONE layer net class. "
   ]
  },
  {
   "cell_type": "code",
   "execution_count": 4,
   "metadata": {},
   "outputs": [],
   "source": [
    "class one_layer_net(nn.Module):\n",
    "\n",
    "    def __init__(self, input_size, output_size):\n",
    "        super(one_layer_net , self).__init__()\n",
    "        self.linear_layer = nn.Linear( input_size, output_size , bias=True)\n",
    "        \n",
    "    def forward(self, x):\n",
    "        scores = self.linear_layer(x)\n",
    "        return scores"
   ]
  },
  {
   "cell_type": "markdown",
   "metadata": {},
   "source": [
    "### Build the net. "
   ]
  },
  {
   "cell_type": "code",
   "execution_count": 5,
   "metadata": {},
   "outputs": [
    {
     "name": "stdout",
     "output_type": "stream",
     "text": [
      "one_layer_net(\n",
      "  (linear_layer): Linear(in_features=3072, out_features=10, bias=True)\n",
      ")\n"
     ]
    }
   ],
   "source": [
    "net=one_layer_net(3072,10)\n",
    "print(net)"
   ]
  },
  {
   "cell_type": "markdown",
   "metadata": {},
   "source": [
    "### Choose the criterion and optimizer. Also choose:\n"
   ]
  },
  {
   "cell_type": "code",
   "execution_count": 6,
   "metadata": {},
   "outputs": [],
   "source": [
    "criterion = nn.CrossEntropyLoss()\n",
    "optimizer=torch.optim.SGD( net.parameters() , lr=0.01 )\n",
    "bs=20"
   ]
  },
  {
   "cell_type": "markdown",
   "metadata": {},
   "source": [
    "### Do 50 passes through the training set."
   ]
  },
  {
   "cell_type": "code",
   "execution_count": 7,
   "metadata": {},
   "outputs": [
    {
     "name": "stdout",
     "output_type": "stream",
     "text": [
      "epoch= 0 \t loss= 1.9571080211162568 \t error= 69.66999999523162 percent\n",
      "epoch= 1 \t loss= 1.8655937111854553 \t error= 65.35999996423722 percent\n",
      "epoch= 2 \t loss= 1.8353460147857665 \t error= 63.94599998950958 percent\n",
      "epoch= 3 \t loss= 1.8202356930732726 \t error= 63.62399997472763 percent\n",
      "epoch= 4 \t loss= 1.8098043702602387 \t error= 62.98599996805191 percent\n",
      "epoch= 5 \t loss= 1.7980687545776368 \t error= 62.28999999284744 percent\n",
      "epoch= 6 \t loss= 1.792679415011406 \t error= 62.369999954700475 percent\n",
      "epoch= 7 \t loss= 1.782641041469574 \t error= 61.715999989509584 percent\n",
      "epoch= 8 \t loss= 1.7830343088150025 \t error= 61.63799999952316 percent\n",
      "epoch= 9 \t loss= 1.7745772976398468 \t error= 61.520000009536744 percent\n",
      "epoch= 10 \t loss= 1.767543620300293 \t error= 61.32399999141693 percent\n",
      "epoch= 11 \t loss= 1.7662373540878296 \t error= 60.89799997091293 percent\n",
      "epoch= 12 \t loss= 1.761036983203888 \t error= 61.05000005245209 percent\n",
      "epoch= 13 \t loss= 1.7613073564529418 \t error= 60.9080000448227 percent\n",
      "epoch= 14 \t loss= 1.7554966744184495 \t error= 60.760000071525575 percent\n",
      "epoch= 15 \t loss= 1.7512183103084564 \t error= 60.63799995183945 percent\n",
      "epoch= 16 \t loss= 1.7514481518507004 \t error= 60.49199997663498 percent\n",
      "epoch= 17 \t loss= 1.7515202839374542 \t error= 60.58 percent\n",
      "epoch= 18 \t loss= 1.7452860609292984 \t error= 60.03999998092652 percent\n",
      "epoch= 19 \t loss= 1.744462964296341 \t error= 60.05000004291534 percent\n",
      "epoch= 20 \t loss= 1.7446880410194396 \t error= 60.22799998998642 percent\n",
      "epoch= 21 \t loss= 1.742922146654129 \t error= 60.07399998903274 percent\n",
      "epoch= 22 \t loss= 1.7379324236154556 \t error= 59.72599998950958 percent\n",
      "epoch= 23 \t loss= 1.7388120703935623 \t error= 60.065999987125394 percent\n",
      "epoch= 24 \t loss= 1.7378301755905152 \t error= 59.84400003910064 percent\n",
      "epoch= 25 \t loss= 1.7349147348642349 \t error= 59.80400002002716 percent\n",
      "epoch= 26 \t loss= 1.7349716995239257 \t error= 59.56199998617172 percent\n",
      "epoch= 27 \t loss= 1.7330280354738234 \t error= 59.690000054836275 percent\n",
      "epoch= 28 \t loss= 1.7272207981824874 \t error= 59.22799998998642 percent\n",
      "epoch= 29 \t loss= 1.728308139848709 \t error= 59.132000000476836 percent\n",
      "epoch= 30 \t loss= 1.7288879548072815 \t error= 59.45800004720688 percent\n",
      "epoch= 31 \t loss= 1.7258436074972152 \t error= 59.410000019073486 percent\n",
      "epoch= 32 \t loss= 1.725648895931244 \t error= 59.39400003194809 percent\n",
      "epoch= 33 \t loss= 1.7235159207344055 \t error= 59.34199999570846 percent\n",
      "epoch= 34 \t loss= 1.7259565587043761 \t error= 59.32199996948242 percent\n",
      "epoch= 35 \t loss= 1.7223434403181077 \t error= 59.410000033378594 percent\n",
      "epoch= 36 \t loss= 1.7230669054746628 \t error= 59.21600003480911 percent\n",
      "epoch= 37 \t loss= 1.722770652627945 \t error= 59.427999994754785 percent\n",
      "epoch= 38 \t loss= 1.7198150355815887 \t error= 59.142000002861025 percent\n",
      "epoch= 39 \t loss= 1.71707532184124 \t error= 58.92200000524521 percent\n",
      "epoch= 40 \t loss= 1.717597387290001 \t error= 59.2660000705719 percent\n",
      "epoch= 41 \t loss= 1.718202832198143 \t error= 59.38999999284744 percent\n",
      "epoch= 42 \t loss= 1.716341143131256 \t error= 58.88599999666214 percent\n",
      "epoch= 43 \t loss= 1.716243234062195 \t error= 59.040000000000006 percent\n",
      "epoch= 44 \t loss= 1.714005843281746 \t error= 59.01400000810623 percent\n",
      "epoch= 45 \t loss= 1.7131062336206435 \t error= 58.96800003767013 percent\n",
      "epoch= 46 \t loss= 1.7129052331209182 \t error= 58.97000004291535 percent\n",
      "epoch= 47 \t loss= 1.7139651666164397 \t error= 58.98400006532669 percent\n",
      "epoch= 48 \t loss= 1.711886697268486 \t error= 58.928000013828274 percent\n",
      "epoch= 49 \t loss= 1.7099878674030304 \t error= 58.874000024795535 percent\n"
     ]
    }
   ],
   "source": [
    "for epoch in range(50):\n",
    "    \n",
    "    running_loss=0\n",
    "    running_error=0\n",
    "    num_batches=0\n",
    "    \n",
    "    shuffled_indices=torch.randperm(50000)\n",
    " \n",
    "    for count in range(0,50000,bs):\n",
    "    \n",
    "        # Set the gradients to zeros\n",
    "        optimizer.zero_grad()\n",
    "        \n",
    "        # create a minibatch       \n",
    "        indices=shuffled_indices[count:count+bs]\n",
    "        minibatch_data =  train_data[indices]\n",
    "        minibatch_label= train_label[indices]\n",
    "\n",
    "        # reshape the minibatch\n",
    "        inputs = minibatch_data.view(bs,3072)\n",
    "\n",
    "        # tell Pytorch to start tracking all operations that will be done on \"inputs\"\n",
    "        inputs.requires_grad_()\n",
    "\n",
    "        # forward the minibatch through the net \n",
    "        scores=net( inputs ) \n",
    "\n",
    "        # Compute the average of the losses of the data points in the minibatch\n",
    "        loss =  criterion( scores , minibatch_label) \n",
    "        \n",
    "        # backward pass to compute dL/dU, dL/dV and dL/dW   \n",
    "        loss.backward()\n",
    "\n",
    "        # do one step of stochastic gradient descent: U=U-lr(dL/dU), V=V-lr(dL/dU), ...\n",
    "        optimizer.step()\n",
    "        \n",
    "        # START COMPUTING STATS\n",
    "        \n",
    "        # add the loss of this batch to the running loss\n",
    "        running_loss += loss.detach().item()\n",
    "        \n",
    "        # compute the error made on this batch and add it to the running error       \n",
    "        error = utils.get_error( scores.detach() , minibatch_label)\n",
    "        running_error += error.item()\n",
    "        \n",
    "        num_batches+=1\n",
    "    \n",
    "    \n",
    "    # compute stats for the full training set\n",
    "    total_loss = running_loss/num_batches\n",
    "    total_error = running_error/num_batches\n",
    "    \n",
    "    print('epoch=',epoch, '\\t loss=', total_loss , '\\t error=', total_error*100 ,'percent')\n",
    "        \n",
    "    "
   ]
  },
  {
   "cell_type": "markdown",
   "metadata": {},
   "source": [
    "# You only have to complete this cell"
   ]
  },
  {
   "cell_type": "markdown",
   "metadata": {},
   "source": [
    "### So we are doing around 59% error on the training set. BUT how much are we doing on test set?"
   ]
  },
  {
   "cell_type": "code",
   "execution_count": 8,
   "metadata": {},
   "outputs": [
    {
     "name": "stdout",
     "output_type": "stream",
     "text": [
      "error rate on test set = 61.789999914169314 percent\n"
     ]
    }
   ],
   "source": [
    "running_error = 0 # COMPLETE HERE\n",
    "num_batches = 0 # COMPLETE HERE\n",
    "\n",
    "\n",
    "for i in range(0, 10000, bs): # COMPLETE HERE\n",
    "\n",
    "    # extract the minibatch\n",
    "    minibatch_data = test_data[i:i + bs] # COMPLETE HERE\n",
    "    minibatch_label = test_label[i:i + bs] # COMPLETE HERE\n",
    "\n",
    "    # reshape the minibatch\n",
    "    inputs = minibatch_data.view(bs,3072) # COMPLETE HERE\n",
    "\n",
    "    # feed it to the network\n",
    "    scores= net(inputs) # COMPLETE HERE\n",
    "\n",
    "    # compute the error made on this batch\n",
    "    error = utils.get_error(scores , minibatch_label) # COMPLETE HERE\n",
    "    \n",
    "    # add it to the running error\n",
    "    running_error += error.item() # COMPLETE HERE\n",
    "\n",
    "    num_batches += 1 # COMPLETE HERE\n",
    "\n",
    "\n",
    "# compute error rate on the full test set\n",
    "total_error = running_error/num_batches # COMPLETE HERE\n",
    "\n",
    "print( 'error rate on test set =', total_error*100 ,'percent')"
   ]
  },
  {
   "cell_type": "markdown",
   "metadata": {},
   "source": [
    "### Choose image at random from the test set and see how good/bad are the predictions"
   ]
  },
  {
   "cell_type": "code",
   "execution_count": 9,
   "metadata": {},
   "outputs": [
    {
     "data": {
      "image/png": "[encoded data removed]",
      "text/plain": [
       "<Figure size 432x288 with 1 Axes>"
      ]
     },
     "metadata": {
      "needs_background": "light"
     },
     "output_type": "display_data"
    },
    {
     "data": {
      "image/png": "[encoded data removed]",
      "text/plain": [
       "<Figure size 640x480 with 1 Axes>"
      ]
     },
     "metadata": {},
     "output_type": "display_data"
    }
   ],
   "source": [
    "# choose a picture at random\n",
    "idx=randint(0, 10000-1)\n",
    "im=test_data[idx]\n",
    "\n",
    "# diplay the picture\n",
    "utils.show(im)\n",
    "\n",
    "# feed it to the net and display the confidence scores\n",
    "scores =  net( im.view(1,3072)) \n",
    "probs= torch.softmax(scores, dim=1)\n",
    "utils.show_prob_cifar(probs)"
   ]
  },
  {
   "cell_type": "code",
   "execution_count": null,
   "metadata": {},
   "outputs": [],
   "source": []
  }
 ],
 "metadata": {
  "kernelspec": {
   "display_name": "Python 3 (ipykernel)",
   "language": "python",
   "name": "python3"
  },
  "language_info": {
   "codemirror_mode": {
    "name": "ipython",
    "version": 3
   },
   "file_extension": ".py",
   "mimetype": "text/x-python",
   "name": "python",
   "nbconvert_exporter": "python",
   "pygments_lexer": "ipython3",
   "version": "3.7.10"
  }
 },
 "nbformat": 4,
 "nbformat_minor": 2
}
