{
 "cells": [
  {
   "cell_type": "markdown",
   "metadata": {},
   "source": [
    "# Lab 03 : Loss and error rate -- exercise"
   ]
  },
  {
   "cell_type": "code",
   "execution_count": 1,
   "metadata": {},
   "outputs": [],
   "source": [
    "# For Google Colaboratory\n",
    "import sys, os\n",
    "if 'google.colab' in sys.modules:\n",
    "    # mount google drive\n",
    "    from google.colab import drive\n",
    "    drive.mount('/content/gdrive')\n",
    "    path_to_file = '/content/gdrive/My Drive/CS4243_codes/codes/labs_lecture05/lab03_monitoring_loss'\n",
    "    print(path_to_file)\n",
    "    # move to Google Drive directory\n",
    "    os.chdir(path_to_file)\n",
    "    !pwd"
   ]
  },
  {
   "cell_type": "code",
   "execution_count": 2,
   "metadata": {},
   "outputs": [],
   "source": [
    "import torch\n",
    "import torch.nn as nn\n",
    "import torch.optim as optim\n",
    "from random import randint\n",
    "import utils"
   ]
  },
  {
   "cell_type": "markdown",
   "metadata": {},
   "source": [
    "### Download the CIFAR dataset -- check the size carefully!"
   ]
  },
  {
   "cell_type": "code",
   "execution_count": 3,
   "metadata": {},
   "outputs": [
    {
     "name": "stdout",
     "output_type": "stream",
     "text": [
      "torch.Size([50000, 3, 32, 32])\n"
     ]
    }
   ],
   "source": [
    "from utils import check_cifar_dataset_exists\n",
    "data_path=check_cifar_dataset_exists()\n",
    "\n",
    "train_data=torch.load(data_path+'cifar/train_data.pt')\n",
    "train_label=torch.load(data_path+'cifar/train_label.pt')\n",
    "test_data=torch.load(data_path+'cifar/test_data.pt')\n",
    "\n",
    "print(train_data.size())"
   ]
  },
  {
   "cell_type": "markdown",
   "metadata": {},
   "source": [
    "### Make a ONE layer net class. "
   ]
  },
  {
   "cell_type": "code",
   "execution_count": 4,
   "metadata": {},
   "outputs": [],
   "source": [
    "class one_layer_net(nn.Module):\n",
    "\n",
    "    def __init__(self, input_size, output_size):\n",
    "        super(one_layer_net , self).__init__()\n",
    "        \n",
    "        # 一层全连接网络MLP\n",
    "        self.linear_layer = nn.Linear( input_size, output_size , bias=True)\n",
    "        \n",
    "    def forward(self, x):\n",
    "        \n",
    "        # 直接输出\n",
    "        scores = self.linear_layer(x)\n",
    "        return scores"
   ]
  },
  {
   "cell_type": "markdown",
   "metadata": {},
   "source": [
    "### Build the net.   "
   ]
  },
  {
   "cell_type": "code",
   "execution_count": 5,
   "metadata": {},
   "outputs": [
    {
     "name": "stdout",
     "output_type": "stream",
     "text": [
      "one_layer_net(\n",
      "  (linear_layer): Linear(in_features=3072, out_features=10, bias=True)\n",
      ")\n"
     ]
    }
   ],
   "source": [
    "net= one_layer_net(3072,10)\n",
    "\n",
    "print(net)"
   ]
  },
  {
   "cell_type": "markdown",
   "metadata": {},
   "source": [
    "### Choose the criterion and optimizer. Also choose:\n",
    "\n",
    "### batchsize = 20\n",
    "\n",
    "### learning rate = 0.01"
   ]
  },
  {
   "cell_type": "code",
   "execution_count": 6,
   "metadata": {},
   "outputs": [],
   "source": [
    "criterion = nn.CrossEntropyLoss()\n",
    "\n",
    "optimizer=torch.optim.SGD( net.parameters() , lr=0.01 )\n",
    "\n",
    "bs=20"
   ]
  },
  {
   "cell_type": "markdown",
   "metadata": {},
   "source": [
    "# You only have to complete this cell\n",
    "\n",
    "### Do 40 passes through the training set (which contains 50,000 images -- not 60,000 like mnist!)"
   ]
  },
  {
   "cell_type": "code",
   "execution_count": 7,
   "metadata": {},
   "outputs": [
    {
     "name": "stdout",
     "output_type": "stream",
     "text": [
      "epoch= 0 \t loss= 1.9552135838031768 \t error= 69.54399992465973 percent\n",
      "epoch= 1 \t loss= 1.863914543533325 \t error= 65.18399993419646 percent\n",
      "epoch= 2 \t loss= 1.83586136469841 \t error= 63.88999994754791 percent\n",
      "epoch= 3 \t loss= 1.8163539936065674 \t error= 63.30199997186661 percent\n",
      "epoch= 4 \t loss= 1.807970790529251 \t error= 63.045999991893765 percent\n",
      "epoch= 5 \t loss= 1.800153231883049 \t error= 62.69799996614456 percent\n",
      "epoch= 6 \t loss= 1.7910755324602128 \t error= 62.11399992704392 percent\n",
      "epoch= 7 \t loss= 1.7827829649448395 \t error= 61.59000002861023 percent\n",
      "epoch= 8 \t loss= 1.778233020234108 \t error= 61.693999960422516 percent\n",
      "epoch= 9 \t loss= 1.7721039888858796 \t error= 61.33599999904633 percent\n",
      "epoch= 10 \t loss= 1.7691146693229676 \t error= 61.28799996852875 percent\n",
      "epoch= 11 \t loss= 1.7643808243751526 \t error= 61.152000043392185 percent\n",
      "epoch= 12 \t loss= 1.7639909471035005 \t error= 60.904000024795536 percent\n",
      "epoch= 13 \t loss= 1.7592845445632934 \t error= 60.655999994277956 percent\n",
      "epoch= 14 \t loss= 1.7545741337299348 \t error= 60.588000040054325 percent\n",
      "epoch= 15 \t loss= 1.7508617496967316 \t error= 60.66000000953674 percent\n",
      "epoch= 16 \t loss= 1.7505591309309005 \t error= 60.38400006771087 percent\n",
      "epoch= 17 \t loss= 1.749701030731201 \t error= 60.39400001049042 percent\n",
      "epoch= 18 \t loss= 1.7465969892501831 \t error= 60.32799997329712 percent\n",
      "epoch= 19 \t loss= 1.7441050065040589 \t error= 60.175999999046326 percent\n",
      "epoch= 20 \t loss= 1.741181956577301 \t error= 59.896000020504005 percent\n",
      "epoch= 21 \t loss= 1.7408754372119903 \t error= 59.79200002908706 percent\n",
      "epoch= 22 \t loss= 1.7396702477216721 \t error= 60.024000043869016 percent\n",
      "epoch= 23 \t loss= 1.7391659323453903 \t error= 59.996000025272366 percent\n",
      "epoch= 24 \t loss= 1.7357787202835082 \t error= 59.86200003623963 percent\n",
      "epoch= 25 \t loss= 1.7350207143068315 \t error= 59.970000090599065 percent\n",
      "epoch= 26 \t loss= 1.733145398259163 \t error= 59.46399999380112 percent\n",
      "epoch= 27 \t loss= 1.7317425631761552 \t error= 59.717999987602234 percent\n",
      "epoch= 28 \t loss= 1.7304619150400162 \t error= 59.48200003147125 percent\n",
      "epoch= 29 \t loss= 1.729560098695755 \t error= 59.484000034332276 percent\n",
      "epoch= 30 \t loss= 1.7238506152391433 \t error= 59.38000008821488 percent\n",
      "epoch= 31 \t loss= 1.72872015106678 \t error= 59.550000071525574 percent\n",
      "epoch= 32 \t loss= 1.7275842256546021 \t error= 59.54200007915497 percent\n",
      "epoch= 33 \t loss= 1.725675046300888 \t error= 59.430000050067896 percent\n",
      "epoch= 34 \t loss= 1.7251398710012436 \t error= 59.198000001907346 percent\n",
      "epoch= 35 \t loss= 1.7256896791934968 \t error= 59.40600001573563 percent\n",
      "epoch= 36 \t loss= 1.7220180691719056 \t error= 58.922000019550325 percent\n",
      "epoch= 37 \t loss= 1.7164397919416428 \t error= 59.13800004720687 percent\n",
      "epoch= 38 \t loss= 1.718984740924835 \t error= 59.38400001287461 percent\n",
      "epoch= 39 \t loss= 1.7175552978038788 \t error= 59.186000037193295 percent\n"
     ]
    }
   ],
   "source": [
    "for epoch in range(40):\n",
    "    \n",
    "    # 每个Epoch都是重新开始\n",
    "    running_loss = 0 # COMPLETE HERE\n",
    "    running_error = 0 # COMPLETE HERE\n",
    "    num_batches = 0 # COMPLETE HERE\n",
    "    \n",
    "    shuffled_indices=torch.randperm(50000)\n",
    " \n",
    "    for count in range(0,50000,bs): # COMPLETE HERE\n",
    "    \n",
    "        # Set the gradients to zeros\n",
    "        optimizer.zero_grad()\n",
    "        \n",
    "        # create a minibatch       \n",
    "        indices=shuffled_indices[count:count+bs]\n",
    "        minibatch_data =  train_data[indices]\n",
    "        minibatch_label= train_label[indices]\n",
    "\n",
    "        # reshape the minibatch\n",
    "        inputs = minibatch_data.view(bs,3072)\n",
    "\n",
    "        # tell Pytorch to start tracking all operations that will be done on \"inputs\"\n",
    "        inputs.requires_grad_()\n",
    "\n",
    "        # forward the minibatch through the net \n",
    "        scores=net( inputs ) \n",
    "\n",
    "        # Compute the average of the losses of the data points in the minibatch\n",
    "        loss =  criterion( scores , minibatch_label) \n",
    "        \n",
    "        # backward pass to compute dL/dU, dL/dV and dL/dW   \n",
    "        loss.backward()\n",
    "\n",
    "        # do one step of stochastic gradient descent: U=U-lr(dL/dU), V=V-lr(dL/dU), ...\n",
    "        optimizer.step()\n",
    "        \n",
    "        # START COMPUTING STATS\n",
    "        \n",
    "        # add the loss of this batch to the running loss\n",
    "        # 获得当前的loss\n",
    "        running_loss += loss.detach().item() # COMPLETE HERE\n",
    "        \n",
    "        # compute the error made on this batch and add it to the running error       \n",
    "        error = utils.get_error(scores.detach() , minibatch_label) # COMPLETE HERE\n",
    "        running_error += error.item() # COMPLETE HERE\n",
    "        \n",
    "        num_batches += 1 # COMPLETE HERE\n",
    "    \n",
    "    \n",
    "    # compute stats for the full training set\n",
    "    # 总Loss = 每个Batch的Loss累加 / Batch数量累加 = 所有Batch的Loss / Batch数\n",
    "    # 若Batch Size = 1，则Batch数 = 数据集大小\n",
    "    # 若Batch Size = 数据集大小，则Batch数 = 1\n",
    "    total_loss = running_loss/num_batches # COMPLETE HERE\n",
    "    # 总Error = 每个Batch的Error累加 / Error数量累加 = 所有Batch的Error / Batch数\n",
    "    # 若Batch Size = ，则Batch数 = 数据集大小\n",
    "    # 若Batch Size = 数据集大小，则Batch数 = 1\n",
    "    total_error = running_error/num_batches # COMPLETE HERE\n",
    "    \n",
    "    print('epoch=',epoch, '\\t loss=', total_loss , '\\t error=', total_error*100 ,'percent')\n",
    "        \n",
    "    \n",
    "        \n",
    "        "
   ]
  },
  {
   "cell_type": "markdown",
   "metadata": {},
   "source": [
    "### Choose image at random from the test set and see how good/bad are the predictions"
   ]
  },
  {
   "cell_type": "code",
   "execution_count": 8,
   "metadata": {},
   "outputs": [
    {
     "data": {
      "image/png": "[encoded data removed]",
      "text/plain": [
       "<Figure size 432x288 with 1 Axes>"
      ]
     },
     "metadata": {
      "needs_background": "light"
     },
     "output_type": "display_data"
    },
    {
     "data": {
      "image/png": "[encoded data removed]",
      "text/plain": [
       "<Figure size 640x480 with 1 Axes>"
      ]
     },
     "metadata": {},
     "output_type": "display_data"
    }
   ],
   "source": [
    "# choose a picture at random\n",
    "idx=randint(0, 10000-1)\n",
    "im=test_data[idx]\n",
    "\n",
    "# diplay the picture\n",
    "utils.show(im)\n",
    "\n",
    "# feed it to the net and display the confidence scores\n",
    "scores =  net( im.view(1,3072)) \n",
    "probs= torch.softmax(scores, dim=1)\n",
    "utils.show_prob_cifar(probs)"
   ]
  },
  {
   "cell_type": "code",
   "execution_count": null,
   "metadata": {},
   "outputs": [],
   "source": []
  }
 ],
 "metadata": {
  "kernelspec": {
   "display_name": "Python 3 (ipykernel)",
   "language": "python",
   "name": "python3"
  },
  "language_info": {
   "codemirror_mode": {
    "name": "ipython",
    "version": 3
   },
   "file_extension": ".py",
   "mimetype": "text/x-python",
   "name": "python",
   "nbconvert_exporter": "python",
   "pygments_lexer": "ipython3",
   "version": "3.7.10"
  }
 },
 "nbformat": 4,
 "nbformat_minor": 2
}
